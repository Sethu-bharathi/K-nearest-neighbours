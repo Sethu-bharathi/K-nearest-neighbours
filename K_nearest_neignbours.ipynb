{
  "nbformat": 4,
  "nbformat_minor": 0,
  "metadata": {
    "colab": {
      "name": "K-nearest neignbours.ipynb",
      "provenance": [],
      "collapsed_sections": []
    },
    "kernelspec": {
      "name": "python3",
      "display_name": "Python 3"
    },
    "language_info": {
      "name": "python"
    }
  },
  "cells": [
    {
      "cell_type": "code",
      "metadata": {
        "id": "8n6dCQSRcsvm"
      },
      "source": [
        "import numpy as np\n",
        "import pandas as pd\n",
        "import matplotlib.pyplot as plt\n",
        "from sklearn import datasets\n",
        "from sklearn.model_selection import train_test_split\n",
        "from sklearn.neighbors import KNeighborsClassifier\n",
        "from sklearn.metrics import confusion_matrix, accuracy_score"
      ],
      "execution_count": null,
      "outputs": []
    },
    {
      "cell_type": "code",
      "metadata": {
        "colab": {
          "base_uri": "https://localhost:8080/",
          "height": 202
        },
        "id": "0yHmEBQQIuwm",
        "outputId": "58ff8b61-9fb6-4d93-9cd3-bf6f98ff130d"
      },
      "source": [
        "df = pd.read_csv('https://raw.githubusercontent.com/Sethu-bharathi/Datasets/master/Telecustomers.csv')\n",
        "df.head()"
      ],
      "execution_count": null,
      "outputs": [
        {
          "output_type": "execute_result",
          "data": {
            "text/html": [
              "<div>\n",
              "<style scoped>\n",
              "    .dataframe tbody tr th:only-of-type {\n",
              "        vertical-align: middle;\n",
              "    }\n",
              "\n",
              "    .dataframe tbody tr th {\n",
              "        vertical-align: top;\n",
              "    }\n",
              "\n",
              "    .dataframe thead th {\n",
              "        text-align: right;\n",
              "    }\n",
              "</style>\n",
              "<table border=\"1\" class=\"dataframe\">\n",
              "  <thead>\n",
              "    <tr style=\"text-align: right;\">\n",
              "      <th></th>\n",
              "      <th>region</th>\n",
              "      <th>tenure</th>\n",
              "      <th>age</th>\n",
              "      <th>marital</th>\n",
              "      <th>address</th>\n",
              "      <th>income</th>\n",
              "      <th>ed</th>\n",
              "      <th>employ</th>\n",
              "      <th>retire</th>\n",
              "      <th>gender</th>\n",
              "      <th>reside</th>\n",
              "      <th>custcat</th>\n",
              "    </tr>\n",
              "  </thead>\n",
              "  <tbody>\n",
              "    <tr>\n",
              "      <th>0</th>\n",
              "      <td>2</td>\n",
              "      <td>13</td>\n",
              "      <td>44</td>\n",
              "      <td>1</td>\n",
              "      <td>9</td>\n",
              "      <td>64.0</td>\n",
              "      <td>4</td>\n",
              "      <td>5</td>\n",
              "      <td>0.0</td>\n",
              "      <td>0</td>\n",
              "      <td>2</td>\n",
              "      <td>1</td>\n",
              "    </tr>\n",
              "    <tr>\n",
              "      <th>1</th>\n",
              "      <td>3</td>\n",
              "      <td>11</td>\n",
              "      <td>33</td>\n",
              "      <td>1</td>\n",
              "      <td>7</td>\n",
              "      <td>136.0</td>\n",
              "      <td>5</td>\n",
              "      <td>5</td>\n",
              "      <td>0.0</td>\n",
              "      <td>0</td>\n",
              "      <td>6</td>\n",
              "      <td>4</td>\n",
              "    </tr>\n",
              "    <tr>\n",
              "      <th>2</th>\n",
              "      <td>3</td>\n",
              "      <td>68</td>\n",
              "      <td>52</td>\n",
              "      <td>1</td>\n",
              "      <td>24</td>\n",
              "      <td>116.0</td>\n",
              "      <td>1</td>\n",
              "      <td>29</td>\n",
              "      <td>0.0</td>\n",
              "      <td>1</td>\n",
              "      <td>2</td>\n",
              "      <td>3</td>\n",
              "    </tr>\n",
              "    <tr>\n",
              "      <th>3</th>\n",
              "      <td>2</td>\n",
              "      <td>33</td>\n",
              "      <td>33</td>\n",
              "      <td>0</td>\n",
              "      <td>12</td>\n",
              "      <td>33.0</td>\n",
              "      <td>2</td>\n",
              "      <td>0</td>\n",
              "      <td>0.0</td>\n",
              "      <td>1</td>\n",
              "      <td>1</td>\n",
              "      <td>1</td>\n",
              "    </tr>\n",
              "    <tr>\n",
              "      <th>4</th>\n",
              "      <td>2</td>\n",
              "      <td>23</td>\n",
              "      <td>30</td>\n",
              "      <td>1</td>\n",
              "      <td>9</td>\n",
              "      <td>30.0</td>\n",
              "      <td>1</td>\n",
              "      <td>2</td>\n",
              "      <td>0.0</td>\n",
              "      <td>0</td>\n",
              "      <td>4</td>\n",
              "      <td>3</td>\n",
              "    </tr>\n",
              "  </tbody>\n",
              "</table>\n",
              "</div>"
            ],
            "text/plain": [
              "   region  tenure  age  marital  ...  retire  gender  reside  custcat\n",
              "0       2      13   44        1  ...     0.0       0       2        1\n",
              "1       3      11   33        1  ...     0.0       0       6        4\n",
              "2       3      68   52        1  ...     0.0       1       2        3\n",
              "3       2      33   33        0  ...     0.0       1       1        1\n",
              "4       2      23   30        1  ...     0.0       0       4        3\n",
              "\n",
              "[5 rows x 12 columns]"
            ]
          },
          "metadata": {},
          "execution_count": 2
        }
      ]
    },
    {
      "cell_type": "code",
      "metadata": {
        "colab": {
          "base_uri": "https://localhost:8080/"
        },
        "id": "t1fxXsneJ5VG",
        "outputId": "8b317621-f504-417b-f6ed-d466b04939c9"
      },
      "source": [
        "x = df.drop(['custcat'], axis = 1)\n",
        "x.head()\n",
        "y=df[\"custcat\"]\n",
        "y.head()"
      ],
      "execution_count": null,
      "outputs": [
        {
          "output_type": "execute_result",
          "data": {
            "text/plain": [
              "0    1\n",
              "1    4\n",
              "2    3\n",
              "3    1\n",
              "4    3\n",
              "Name: custcat, dtype: int64"
            ]
          },
          "metadata": {},
          "execution_count": 3
        }
      ]
    },
    {
      "cell_type": "code",
      "metadata": {
        "id": "O5dqpP1NKczo"
      },
      "source": [
        "x_test,x_train,y_test,y_train=train_test_split(x,y,test_size=0.2)"
      ],
      "execution_count": null,
      "outputs": []
    },
    {
      "cell_type": "code",
      "metadata": {
        "colab": {
          "base_uri": "https://localhost:8080/"
        },
        "id": "-dxELhZJ-US2",
        "outputId": "9a10c5c4-c5ac-4f56-af6a-13ef31d33074"
      },
      "source": [
        "import sklearn\n",
        "metrics=sklearn.neighbors.VALID_METRICS['brute']\n",
        "metrics"
      ],
      "execution_count": null,
      "outputs": [
        {
          "output_type": "execute_result",
          "data": {
            "text/plain": [
              "['cityblock',\n",
              " 'cosine',\n",
              " 'euclidean',\n",
              " 'haversine',\n",
              " 'l2',\n",
              " 'l1',\n",
              " 'manhattan',\n",
              " 'precomputed',\n",
              " 'nan_euclidean',\n",
              " 'braycurtis',\n",
              " 'canberra',\n",
              " 'chebyshev',\n",
              " 'correlation',\n",
              " 'cosine',\n",
              " 'dice',\n",
              " 'hamming',\n",
              " 'jaccard',\n",
              " 'kulsinski',\n",
              " 'mahalanobis',\n",
              " 'matching',\n",
              " 'minkowski',\n",
              " 'rogerstanimoto',\n",
              " 'russellrao',\n",
              " 'seuclidean',\n",
              " 'sokalmichener',\n",
              " 'sokalsneath',\n",
              " 'sqeuclidean',\n",
              " 'yule',\n",
              " 'wminkowski']"
            ]
          },
          "metadata": {},
          "execution_count": 27
        }
      ]
    },
    {
      "cell_type": "code",
      "metadata": {
        "id": "oT1mrONG7_il"
      },
      "source": [
        "score1=[]\n",
        "for i in range(1,50):\n",
        "  knn=KNeighborsClassifier(n_neighbors=i)\n",
        "  knn.fit(x_train,y_train)\n",
        "  y_pred=knn.predict(x_test)\n",
        "  score1.append(accuracy_score(y_test,y_pred))\n"
      ],
      "execution_count": null,
      "outputs": []
    },
    {
      "cell_type": "code",
      "metadata": {
        "colab": {
          "base_uri": "https://localhost:8080/",
          "height": 279
        },
        "id": "YueMp-Es82uf",
        "outputId": "5952d858-3c5e-42fb-896e-43ea002dccdc"
      },
      "source": [
        "plt.plot(range(1,50),score1,color=\"red\",linestyle=\"dashed\",marker=\"o\",markersize=9,markerfacecolor=\"blue\")\n",
        "plt.xlabel(\"range\")\n",
        "plt.ylabel(\"Error rate\")\n",
        "plt.show();"
      ],
      "execution_count": null,
      "outputs": [
        {
          "output_type": "display_data",
          "data": {
            "image/png": "[encoded data removed]",
            "text/plain": [
              "<Figure size 432x288 with 1 Axes>"
            ]
          },
          "metadata": {
            "needs_background": "light"
          }
        }
      ]
    },
    {
      "cell_type": "markdown",
      "metadata": {
        "id": "s43FuVlUBNg1"
      },
      "source": [
        "## At    <b>k=12</b>  the accuracy value is **maximum**\n"
      ]
    },
    {
      "cell_type": "code",
      "metadata": {
        "colab": {
          "base_uri": "https://localhost:8080/"
        },
        "id": "zgnCu4yR9zsd",
        "outputId": "257f5505-9bc4-4828-d1ee-62a5a9aeb8a9"
      },
      "source": [
        "print(\"The minimum error is at k=\",score1.index(max(score1)),max(score1))"
      ],
      "execution_count": null,
      "outputs": [
        {
          "output_type": "stream",
          "name": "stdout",
          "text": [
            "The minimum error is at k= 12 0.355\n"
          ]
        }
      ]
    },
    {
      "cell_type": "code",
      "metadata": {
        "id": "CeLbM2WvAxzL"
      },
      "source": [
        ""
      ],
      "execution_count": null,
      "outputs": []
    },
    {
      "cell_type": "code",
      "metadata": {
        "id": "XqjyPkqd-JYe"
      },
      "source": [
        "score=[]\n",
        "for j in metrics:\n",
        "  c=[]\n",
        "  for i in range(1,50):\n",
        "    k=KNeighborsClassifier(n_neighbors=i,metric=j)\n",
        "    knn.fit(x_train,y_train)\n",
        "    y_pred=knn.predict(x_test)\n",
        "    c.append(accuracy_score(y_test,y_pred))\n",
        "  score.append(c)"
      ],
      "execution_count": null,
      "outputs": []
    },
    {
      "cell_type": "code",
      "metadata": {
        "colab": {
          "base_uri": "https://localhost:8080/"
        },
        "id": "KD5TZabt_j9f",
        "outputId": "fcaf5260-ff04-4a4b-8d50-c63ffa014c25"
      },
      "source": [
        "for i in score:\n",
        "  print(max(i))"
      ],
      "execution_count": null,
      "outputs": [
        {
          "output_type": "stream",
          "name": "stdout",
          "text": [
            "0.3175\n",
            "0.3175\n",
            "0.3175\n",
            "0.3175\n",
            "0.3175\n",
            "0.3175\n",
            "0.3175\n",
            "0.3175\n",
            "0.3175\n",
            "0.3175\n",
            "0.3175\n",
            "0.3175\n",
            "0.3175\n",
            "0.3175\n",
            "0.3175\n",
            "0.3175\n",
            "0.3175\n",
            "0.3175\n",
            "0.3175\n",
            "0.3175\n",
            "0.3175\n",
            "0.3175\n",
            "0.3175\n",
            "0.3175\n",
            "0.3175\n",
            "0.3175\n",
            "0.3175\n",
            "0.3175\n",
            "0.3175\n"
          ]
        }
      ]
    }
  ]
}